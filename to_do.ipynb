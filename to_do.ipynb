{
  "nbformat": 4,
  "nbformat_minor": 0,
  "metadata": {
    "colab": {
      "name": "to_do.ipynb",
      "version": "0.3.2",
      "provenance": [],
      "collapsed_sections": [],
      "include_colab_link": true
    },
    "kernelspec": {
      "name": "python3",
      "display_name": "Python 3"
    }
  },
  "cells": [
    {
      "cell_type": "markdown",
      "metadata": {
        "id": "view-in-github",
        "colab_type": "text"
      },
      "source": [
        "<a href=\"https://colab.research.google.com/github/hyoseog/work/blob/master/to_do.ipynb\" target=\"_parent\"><img src=\"https://colab.research.google.com/assets/colab-badge.svg\" alt=\"Open In Colab\"/></a>"
      ]
    },
    {
      "cell_type": "markdown",
      "metadata": {
        "id": "mew0yJVbR9zh",
        "colab_type": "text"
      },
      "source": [
        "### 1. SK증권 분석주제 고민해보기\n",
        " - 내가 했던일 떠올려보기\n",
        " 1. 계좌 : 계좌개설, 카드, 통장, \n",
        " 2. 고객 : 고객등급, CDD, 신용정보, 투자정보확인서, \n",
        " 3. 주식권리 : 유상(청약, 신주인수권), 무상, 배당, 합병, 감자, 액면분할, 액면병합 \n",
        " 4. 공모주 청약\n",
        " - 패턴이 반복 되는 일이 주제가 되어야함\n",
        " - 미리 인지하지 못했던 부분에 대한 발견\n",
        " - 고객 확대, 매출 증대에 이바지 할 수 있는 가능성\n",
        " \n",
        " \n",
        " > idea\n",
        " * 공무주 청약시 청약 수수료 수익\n",
        " * 고객에게 필요한 부가서비스를 개발하여 투자자 참여 유도 - 행동패턴 분석\n",
        "    -> 위탁계좌 예수금을 장 종료후 CMA계좌로 자동으로 이체 및 익일 장전 다시 위탁계좌로 이체\n",
        " * \n",
        " "
      ]
    },
    {
      "cell_type": "markdown",
      "metadata": {
        "id": "9DK_059eSDD5",
        "colab_type": "text"
      },
      "source": [
        "### 2. 분석 방법론에 대한 고찰"
      ]
    },
    {
      "cell_type": "markdown",
      "metadata": {
        "id": "M541fmTAYeCa",
        "colab_type": "text"
      },
      "source": [
        "CRISP-DM"
      ]
    },
    {
      "cell_type": "markdown",
      "metadata": {
        "id": "dCRZ0FW7SDGp",
        "colab_type": "text"
      },
      "source": [
        "###3. 공부하면서 느낀 어려움, 고민 등 공유"
      ]
    },
    {
      "cell_type": "markdown",
      "metadata": {
        "id": "0chjoyr7SDJR",
        "colab_type": "text"
      },
      "source": [
        ""
      ]
    },
    {
      "cell_type": "markdown",
      "metadata": {
        "id": "pnCrS1WqSDMQ",
        "colab_type": "text"
      },
      "source": [
        ""
      ]
    },
    {
      "cell_type": "markdown",
      "metadata": {
        "id": "F1770Y8iSDPD",
        "colab_type": "text"
      },
      "source": [
        ""
      ]
    }
  ]
}